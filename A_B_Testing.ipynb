{
  "nbformat": 4,
  "nbformat_minor": 0,
  "metadata": {
    "kernelspec": {
      "display_name": "Python 3",
      "language": "python",
      "name": "python3"
    },
    "language_info": {
      "codemirror_mode": {
        "name": "ipython",
        "version": 3
      },
      "file_extension": ".py",
      "mimetype": "text/x-python",
      "name": "python",
      "nbconvert_exporter": "python",
      "pygments_lexer": "ipython3",
      "version": "3.6.5"
    },
    "colab": {
      "provenance": [],
      "include_colab_link": true
    }
  },
  "cells": [
    {
      "cell_type": "markdown",
      "metadata": {
        "id": "view-in-github",
        "colab_type": "text"
      },
      "source": [
        "<a href=\"https://colab.research.google.com/github/selene518/A-B-Testing/blob/main/A_B_Testing.ipynb\" target=\"_parent\"><img src=\"https://colab.research.google.com/assets/colab-badge.svg\" alt=\"Open In Colab\"/></a>"
      ]
    },
    {
      "cell_type": "markdown",
      "metadata": {
        "id": "jjz8VA7dF1Sq"
      },
      "source": [
        "# Conversion Analysis on Web Design"
      ]
    },
    {
      "cell_type": "markdown",
      "metadata": {
        "id": "Qh0TjJXhF1Sv"
      },
      "source": [
        "## 1. Introduction\n",
        "For this project, we will be analyzing the results of an A/B test run by an e-commerce website.  The final goal is to help the company understand if they should implement the new page, keep the old page, or perhaps run the experiment longer to make their decision"
      ]
    },
    {
      "cell_type": "markdown",
      "metadata": {
        "id": "vORDPHO9F1Sw"
      },
      "source": [
        "## 2. Import data & data cleaning"
      ]
    },
    {
      "cell_type": "code",
      "metadata": {
        "_uuid": "568c6fcb459807292819a2e1986d8ba5c488e572",
        "id": "mBIwh9sFF1S0"
      },
      "source": [
        "import pandas as pd\n",
        "import numpy as np\n",
        "import matplotlib.pyplot as plt\n",
        "\n",
        "%matplotlib inline"
      ],
      "execution_count": null,
      "outputs": []
    },
    {
      "cell_type": "code",
      "metadata": {
        "_uuid": "be81d7cec27cd0ae71d776d22424df366925163d",
        "id": "knAECGvgF1TQ",
        "outputId": "f39b78e0-4080-47c0-bfce-36dd00602ad2"
      },
      "source": [
        "df=pd.read_csv('sample ab_data.csv')\n",
        "df.head()"
      ],
      "execution_count": null,
      "outputs": [
        {
          "output_type": "execute_result",
          "data": {
            "text/html": [
              "<div>\n",
              "<style scoped>\n",
              "    .dataframe tbody tr th:only-of-type {\n",
              "        vertical-align: middle;\n",
              "    }\n",
              "\n",
              "    .dataframe tbody tr th {\n",
              "        vertical-align: top;\n",
              "    }\n",
              "\n",
              "    .dataframe thead th {\n",
              "        text-align: right;\n",
              "    }\n",
              "</style>\n",
              "<table border=\"1\" class=\"dataframe\">\n",
              "  <thead>\n",
              "    <tr style=\"text-align: right;\">\n",
              "      <th></th>\n",
              "      <th>user_id</th>\n",
              "      <th>timestamp</th>\n",
              "      <th>group</th>\n",
              "      <th>landing_page</th>\n",
              "      <th>converted</th>\n",
              "    </tr>\n",
              "  </thead>\n",
              "  <tbody>\n",
              "    <tr>\n",
              "      <th>0</th>\n",
              "      <td>851104</td>\n",
              "      <td>11:48.6</td>\n",
              "      <td>control</td>\n",
              "      <td>old_page</td>\n",
              "      <td>0</td>\n",
              "    </tr>\n",
              "    <tr>\n",
              "      <th>1</th>\n",
              "      <td>804228</td>\n",
              "      <td>01:45.2</td>\n",
              "      <td>control</td>\n",
              "      <td>old_page</td>\n",
              "      <td>0</td>\n",
              "    </tr>\n",
              "    <tr>\n",
              "      <th>2</th>\n",
              "      <td>661590</td>\n",
              "      <td>55:06.2</td>\n",
              "      <td>treatment</td>\n",
              "      <td>new_page</td>\n",
              "      <td>1</td>\n",
              "    </tr>\n",
              "    <tr>\n",
              "      <th>3</th>\n",
              "      <td>853541</td>\n",
              "      <td>28:03.1</td>\n",
              "      <td>treatment</td>\n",
              "      <td>new_page</td>\n",
              "      <td>1</td>\n",
              "    </tr>\n",
              "    <tr>\n",
              "      <th>4</th>\n",
              "      <td>864975</td>\n",
              "      <td>52:26.2</td>\n",
              "      <td>control</td>\n",
              "      <td>old_page</td>\n",
              "      <td>1</td>\n",
              "    </tr>\n",
              "  </tbody>\n",
              "</table>\n",
              "</div>"
            ],
            "text/plain": [
              "   user_id timestamp      group landing_page  converted\n",
              "0   851104   11:48.6    control     old_page          0\n",
              "1   804228   01:45.2    control     old_page          0\n",
              "2   661590   55:06.2  treatment     new_page          1\n",
              "3   853541   28:03.1  treatment     new_page          1\n",
              "4   864975   52:26.2    control     old_page          1"
            ]
          },
          "metadata": {
            "tags": []
          },
          "execution_count": 3
        }
      ]
    },
    {
      "cell_type": "markdown",
      "metadata": {
        "_uuid": "1f31f0e218afefc4704f566d19c65d5ed2dcf347",
        "id": "8qaUoBsqF1Tn"
      },
      "source": [
        "Get an overview of the dataset"
      ]
    },
    {
      "cell_type": "code",
      "metadata": {
        "_uuid": "a6e31d6c72fbea227fec4621d0797cd4d2c56fcf",
        "id": "S22-bneEF1Tn",
        "outputId": "e640cb13-5f5f-4358-f853-74dee1568e37"
      },
      "source": [
        "df.info()"
      ],
      "execution_count": null,
      "outputs": [
        {
          "output_type": "stream",
          "text": [
            "<class 'pandas.core.frame.DataFrame'>\n",
            "RangeIndex: 294478 entries, 0 to 294477\n",
            "Data columns (total 5 columns):\n",
            "user_id         294478 non-null int64\n",
            "timestamp       294478 non-null object\n",
            "group           294478 non-null object\n",
            "landing_page    294478 non-null object\n",
            "converted       294478 non-null int64\n",
            "dtypes: int64(2), object(3)\n",
            "memory usage: 11.2+ MB\n"
          ],
          "name": "stdout"
        }
      ]
    },
    {
      "cell_type": "markdown",
      "metadata": {
        "_uuid": "753b4c9dd6621a1b1a861d74220e99bcf133f0ca",
        "id": "KHEp376lF1T4"
      },
      "source": [
        "Check if `group` aligns with `landing_page`"
      ]
    },
    {
      "cell_type": "code",
      "metadata": {
        "id": "8BDOxS7YF1T-",
        "outputId": "3afd9ee1-58a2-4068-813f-1a08afcf5cf3"
      },
      "source": [
        "((df.group=='treatment') & (df.landing_page=='old_page')).sum()"
      ],
      "execution_count": null,
      "outputs": [
        {
          "output_type": "execute_result",
          "data": {
            "text/plain": [
              "1965"
            ]
          },
          "metadata": {
            "tags": []
          },
          "execution_count": 5
        }
      ]
    },
    {
      "cell_type": "code",
      "metadata": {
        "id": "dIKz7sevF1UN",
        "outputId": "f5ac9033-233c-49d1-be04-b4fa42f5866b"
      },
      "source": [
        "((df.group=='control') & (df.landing_page=='new_page')).sum()"
      ],
      "execution_count": null,
      "outputs": [
        {
          "output_type": "execute_result",
          "data": {
            "text/plain": [
              "1928"
            ]
          },
          "metadata": {
            "tags": []
          },
          "execution_count": 6
        }
      ]
    },
    {
      "cell_type": "code",
      "metadata": {
        "id": "X_li-kN2F1UX"
      },
      "source": [
        "df['misaligned']=((df.group=='treatment') & (df.landing_page=='old_page')) | ((df.group=='control') & (df.landing_page=='new_page'))\n",
        "df = df[-df['misaligned']]"
      ],
      "execution_count": null,
      "outputs": []
    },
    {
      "cell_type": "code",
      "metadata": {
        "id": "zpbIttdzF1Un",
        "outputId": "12960216-e5a5-413a-d7df-0c35d2851277"
      },
      "source": [
        "df.info()"
      ],
      "execution_count": null,
      "outputs": [
        {
          "output_type": "stream",
          "text": [
            "<class 'pandas.core.frame.DataFrame'>\n",
            "Int64Index: 290585 entries, 0 to 294477\n",
            "Data columns (total 6 columns):\n",
            "user_id         290585 non-null int64\n",
            "timestamp       290585 non-null object\n",
            "group           290585 non-null object\n",
            "landing_page    290585 non-null object\n",
            "converted       290585 non-null int64\n",
            "misaligned      290585 non-null bool\n",
            "dtypes: bool(1), int64(2), object(3)\n",
            "memory usage: 13.6+ MB\n"
          ],
          "name": "stdout"
        }
      ]
    },
    {
      "cell_type": "markdown",
      "metadata": {
        "id": "E9gEIt6jF1U3"
      },
      "source": [
        "Check unique users"
      ]
    },
    {
      "cell_type": "code",
      "metadata": {
        "_uuid": "5689a11664ef6bf559d3a56425766727f5b4090a",
        "id": "KT-fdeSsF1U3",
        "outputId": "291bfc3f-ff55-41a7-8d39-12c08d87d883"
      },
      "source": [
        "df.user_id.nunique()"
      ],
      "execution_count": null,
      "outputs": [
        {
          "output_type": "execute_result",
          "data": {
            "text/plain": [
              "290584"
            ]
          },
          "metadata": {
            "tags": []
          },
          "execution_count": 9
        }
      ]
    },
    {
      "cell_type": "code",
      "metadata": {
        "id": "0sh0ib_vF1VF",
        "outputId": "f74eb601-d9ad-4eeb-ab7e-2ddba1fdaea2"
      },
      "source": [
        "df['user_id'].value_counts().sort_values(ascending=False).head()"
      ],
      "execution_count": null,
      "outputs": [
        {
          "output_type": "execute_result",
          "data": {
            "text/plain": [
              "773192    2\n",
              "639032    1\n",
              "663620    1\n",
              "778364    1\n",
              "645179    1\n",
              "Name: user_id, dtype: int64"
            ]
          },
          "metadata": {
            "tags": []
          },
          "execution_count": 10
        }
      ]
    },
    {
      "cell_type": "markdown",
      "source": [
        "# make assumption:\n",
        "## let's assume"
      ],
      "metadata": {
        "id": "dHxEuQ8HK508"
      }
    },
    {
      "cell_type": "code",
      "metadata": {
        "id": "M20udeCyF1VR",
        "outputId": "ac8ae5bf-a2f8-4ed3-d8e9-859830a2e636"
      },
      "source": [
        "df[df['user_id']==773192]"
      ],
      "execution_count": null,
      "outputs": [
        {
          "output_type": "execute_result",
          "data": {
            "text/html": [
              "<div>\n",
              "<style scoped>\n",
              "    .dataframe tbody tr th:only-of-type {\n",
              "        vertical-align: middle;\n",
              "    }\n",
              "\n",
              "    .dataframe tbody tr th {\n",
              "        vertical-align: top;\n",
              "    }\n",
              "\n",
              "    .dataframe thead th {\n",
              "        text-align: right;\n",
              "    }\n",
              "</style>\n",
              "<table border=\"1\" class=\"dataframe\">\n",
              "  <thead>\n",
              "    <tr style=\"text-align: right;\">\n",
              "      <th></th>\n",
              "      <th>user_id</th>\n",
              "      <th>timestamp</th>\n",
              "      <th>group</th>\n",
              "      <th>landing_page</th>\n",
              "      <th>converted</th>\n",
              "      <th>misaligned</th>\n",
              "    </tr>\n",
              "  </thead>\n",
              "  <tbody>\n",
              "    <tr>\n",
              "      <th>1899</th>\n",
              "      <td>773192</td>\n",
              "      <td>37:58.8</td>\n",
              "      <td>treatment</td>\n",
              "      <td>new_page</td>\n",
              "      <td>1</td>\n",
              "      <td>False</td>\n",
              "    </tr>\n",
              "    <tr>\n",
              "      <th>2893</th>\n",
              "      <td>773192</td>\n",
              "      <td>55:59.6</td>\n",
              "      <td>treatment</td>\n",
              "      <td>new_page</td>\n",
              "      <td>0</td>\n",
              "      <td>False</td>\n",
              "    </tr>\n",
              "  </tbody>\n",
              "</table>\n",
              "</div>"
            ],
            "text/plain": [
              "      user_id timestamp      group landing_page  converted  misaligned\n",
              "1899   773192   37:58.8  treatment     new_page          1       False\n",
              "2893   773192   55:59.6  treatment     new_page          0       False"
            ]
          },
          "metadata": {
            "tags": []
          },
          "execution_count": 11
        }
      ]
    },
    {
      "cell_type": "code",
      "metadata": {
        "id": "KjvR2M5DF1Vd"
      },
      "source": [
        "df.drop(1899, axis = 0,inplace = True)"
      ],
      "execution_count": null,
      "outputs": []
    },
    {
      "cell_type": "code",
      "metadata": {
        "id": "LBHgN6BYF1Vn",
        "outputId": "b2aa4718-d906-4b9c-b287-4fc6a7551beb"
      },
      "source": [
        "df['user_id'].value_counts().sort_values(ascending=False).head()"
      ],
      "execution_count": null,
      "outputs": [
        {
          "output_type": "execute_result",
          "data": {
            "text/plain": [
              "630836    1\n",
              "639032    1\n",
              "663620    1\n",
              "778364    1\n",
              "645179    1\n",
              "Name: user_id, dtype: int64"
            ]
          },
          "metadata": {
            "tags": []
          },
          "execution_count": 13
        }
      ]
    },
    {
      "cell_type": "markdown",
      "metadata": {
        "id": "8Zhx0iH2F1V3"
      },
      "source": [
        "How many users in each group"
      ]
    },
    {
      "cell_type": "code",
      "metadata": {
        "id": "zGpebKd1F1V3",
        "outputId": "b0a155c1-ae52-46ae-a5cd-40e8e07e612a"
      },
      "source": [
        "df[['user_id','group']].groupby('group').count()"
      ],
      "execution_count": null,
      "outputs": [
        {
          "output_type": "execute_result",
          "data": {
            "text/html": [
              "<div>\n",
              "<style scoped>\n",
              "    .dataframe tbody tr th:only-of-type {\n",
              "        vertical-align: middle;\n",
              "    }\n",
              "\n",
              "    .dataframe tbody tr th {\n",
              "        vertical-align: top;\n",
              "    }\n",
              "\n",
              "    .dataframe thead th {\n",
              "        text-align: right;\n",
              "    }\n",
              "</style>\n",
              "<table border=\"1\" class=\"dataframe\">\n",
              "  <thead>\n",
              "    <tr style=\"text-align: right;\">\n",
              "      <th></th>\n",
              "      <th>user_id</th>\n",
              "    </tr>\n",
              "    <tr>\n",
              "      <th>group</th>\n",
              "      <th></th>\n",
              "    </tr>\n",
              "  </thead>\n",
              "  <tbody>\n",
              "    <tr>\n",
              "      <th>control</th>\n",
              "      <td>145274</td>\n",
              "    </tr>\n",
              "    <tr>\n",
              "      <th>treatment</th>\n",
              "      <td>145310</td>\n",
              "    </tr>\n",
              "  </tbody>\n",
              "</table>\n",
              "</div>"
            ],
            "text/plain": [
              "           user_id\n",
              "group             \n",
              "control     145274\n",
              "treatment   145310"
            ]
          },
          "metadata": {
            "tags": []
          },
          "execution_count": 14
        }
      ]
    },
    {
      "cell_type": "markdown",
      "metadata": {
        "id": "5UDVQvPQF1WK"
      },
      "source": [
        "Conversion rate in each group"
      ]
    },
    {
      "cell_type": "code",
      "metadata": {
        "id": "q88bJU9cF1WL",
        "outputId": "518c411d-4b13-4dcc-bd0b-908a4847144e"
      },
      "source": [
        "df[['user_id','group','converted']].groupby('group').agg({'user_id':'count','converted':'mean', 'converted':'sum'})"
      ],
      "execution_count": null,
      "outputs": [
        {
          "output_type": "execute_result",
          "data": {
            "text/html": [
              "<div>\n",
              "<style scoped>\n",
              "    .dataframe tbody tr th:only-of-type {\n",
              "        vertical-align: middle;\n",
              "    }\n",
              "\n",
              "    .dataframe tbody tr th {\n",
              "        vertical-align: top;\n",
              "    }\n",
              "\n",
              "    .dataframe thead th {\n",
              "        text-align: right;\n",
              "    }\n",
              "</style>\n",
              "<table border=\"1\" class=\"dataframe\">\n",
              "  <thead>\n",
              "    <tr style=\"text-align: right;\">\n",
              "      <th></th>\n",
              "      <th>user_id</th>\n",
              "      <th>converted</th>\n",
              "    </tr>\n",
              "    <tr>\n",
              "      <th>group</th>\n",
              "      <th></th>\n",
              "      <th></th>\n",
              "    </tr>\n",
              "  </thead>\n",
              "  <tbody>\n",
              "    <tr>\n",
              "      <th>control</th>\n",
              "      <td>145274</td>\n",
              "      <td>0.120386</td>\n",
              "    </tr>\n",
              "    <tr>\n",
              "      <th>treatment</th>\n",
              "      <td>145310</td>\n",
              "      <td>0.125353</td>\n",
              "    </tr>\n",
              "  </tbody>\n",
              "</table>\n",
              "</div>"
            ],
            "text/plain": [
              "           user_id  converted\n",
              "group                        \n",
              "control     145274   0.120386\n",
              "treatment   145310   0.125353"
            ]
          },
          "metadata": {
            "tags": []
          },
          "execution_count": 15
        }
      ]
    },
    {
      "cell_type": "markdown",
      "metadata": {
        "id": "jMSqKuReF1WZ"
      },
      "source": [
        "## 3. Analyze results"
      ]
    },
    {
      "cell_type": "markdown",
      "metadata": {
        "id": "jtCI8wWiF1We"
      },
      "source": [
        "Let's assume that the new page does not have higher conversion rate than the old page at 5% Type I error. So the hypothesis woule be:"
      ]
    },
    {
      "cell_type": "markdown",
      "metadata": {
        "id": "0yxbDgV2F1Wf"
      },
      "source": [
        "**null:** **$p_{new}$** - **$p_{old}$** <=0\n",
        "\n",
        "**alternative:** **$p_{new}$** - **$p_{old}$** >0"
      ]
    },
    {
      "cell_type": "code",
      "metadata": {
        "id": "tMvxjuMzF1Wj",
        "outputId": "270e4450-3abe-42b5-b80c-0aeaf1de4b73"
      },
      "source": [
        "convert_old = df[df.group=='control'].converted.sum()\n",
        "convert_new = df[df.group=='treatment'].converted.sum()\n",
        "n_old = len(df[df.group=='control'].converted)\n",
        "n_new= len(df[df.group=='treatment'].converted)\n",
        "\n",
        "convert_old, convert_new, n_old, n_new"
      ],
      "execution_count": null,
      "outputs": [
        {
          "output_type": "execute_result",
          "data": {
            "text/plain": [
              "(17489, 18215, 145274, 145310)"
            ]
          },
          "metadata": {
            "tags": []
          },
          "execution_count": 16
        }
      ]
    },
    {
      "cell_type": "code",
      "metadata": {
        "id": "U7hXGU4OF1W8",
        "outputId": "d8f879ad-15be-488b-f3aa-7ff8783bf3b4"
      },
      "source": [
        "conversion_dic = {'Views':{'Control':n_old,'Test':n_new},'Converts': {'Control':convert_old,'Test':convert_new}}\n",
        "conversion_table = pd.DataFrame(conversion_dic)\n",
        "conversion_table['Conversion %'] = conversion_table['Converts'] / conversion_table['Views']\n",
        "conversion_table['Conversion %'] = conversion_table['Conversion %'].apply(lambda x: str(np.round(x,3)*100)+'%')\n",
        "conversion_table"
      ],
      "execution_count": null,
      "outputs": [
        {
          "output_type": "execute_result",
          "data": {
            "text/html": [
              "<div>\n",
              "<style scoped>\n",
              "    .dataframe tbody tr th:only-of-type {\n",
              "        vertical-align: middle;\n",
              "    }\n",
              "\n",
              "    .dataframe tbody tr th {\n",
              "        vertical-align: top;\n",
              "    }\n",
              "\n",
              "    .dataframe thead th {\n",
              "        text-align: right;\n",
              "    }\n",
              "</style>\n",
              "<table border=\"1\" class=\"dataframe\">\n",
              "  <thead>\n",
              "    <tr style=\"text-align: right;\">\n",
              "      <th></th>\n",
              "      <th>Views</th>\n",
              "      <th>Converts</th>\n",
              "      <th>Conversion %</th>\n",
              "    </tr>\n",
              "  </thead>\n",
              "  <tbody>\n",
              "    <tr>\n",
              "      <th>Control</th>\n",
              "      <td>145274</td>\n",
              "      <td>17489</td>\n",
              "      <td>12.0%</td>\n",
              "    </tr>\n",
              "    <tr>\n",
              "      <th>Test</th>\n",
              "      <td>145310</td>\n",
              "      <td>18215</td>\n",
              "      <td>12.5%</td>\n",
              "    </tr>\n",
              "  </tbody>\n",
              "</table>\n",
              "</div>"
            ],
            "text/plain": [
              "          Views  Converts Conversion %\n",
              "Control  145274     17489        12.0%\n",
              "Test     145310     18215        12.5%"
            ]
          },
          "metadata": {
            "tags": []
          },
          "execution_count": 18
        }
      ]
    },
    {
      "cell_type": "markdown",
      "metadata": {
        "id": "-_aR1gckF1XJ"
      },
      "source": [
        "### 3.1 Z-test in our way"
      ]
    },
    {
      "cell_type": "code",
      "metadata": {
        "id": "TL7ru0QnF1XU"
      },
      "source": [
        "def z_test(p1,p0,n1,n0):\n",
        "    delta = p1-p0\n",
        "    p = (p1*n1 + p0*n0) / (n1+n0)\n",
        "    return delta / np.sqrt(p*(1-p)*(1/n1 + 1/n0))"
      ],
      "execution_count": null,
      "outputs": []
    },
    {
      "cell_type": "code",
      "metadata": {
        "id": "-oSlIEnmF1Xj"
      },
      "source": [
        "p1 = convert_new / n_new\n",
        "p0 = convert_old / n_old\n",
        "n1 = n_new\n",
        "n0 = n_old"
      ],
      "execution_count": null,
      "outputs": []
    },
    {
      "cell_type": "code",
      "metadata": {
        "id": "2PxNzONJF1Xs",
        "outputId": "d72b52cf-9c84-4c4e-c0e7-166254f71b29"
      },
      "source": [
        "z_value = z_test(p1,p0,n1,n0)\n",
        "z_value"
      ],
      "execution_count": null,
      "outputs": [
        {
          "output_type": "execute_result",
          "data": {
            "text/plain": [
              "4.077481782861739"
            ]
          },
          "metadata": {
            "tags": []
          },
          "execution_count": 22
        }
      ]
    },
    {
      "cell_type": "code",
      "metadata": {
        "id": "oh02zuyCF1X2",
        "outputId": "dc5cfd29-e948-4e40-cf27-5c46453425cb"
      },
      "source": [
        "from scipy.stats import norm\n",
        "p_value = 1- norm.cdf(z_value)\n",
        "\n",
        "p_value"
      ],
      "execution_count": null,
      "outputs": [
        {
          "output_type": "execute_result",
          "data": {
            "text/plain": [
              "2.276304781123617e-05"
            ]
          },
          "metadata": {
            "tags": []
          },
          "execution_count": 23
        }
      ]
    },
    {
      "cell_type": "markdown",
      "metadata": {
        "id": "HBj5Jd5XF1YE"
      },
      "source": [
        "p-value is less than 0.05, so we can reject null hypothesis and accept alternative hypothesis that\n",
        "<br>**$p_{new}$** - **$p_{old}$** >0, the new page has higher conversion rate than the old page"
      ]
    },
    {
      "cell_type": "markdown",
      "metadata": {
        "id": "dyVP54k2F1YG"
      },
      "source": [
        "### 3.2 Z-test in Statsmodels"
      ]
    },
    {
      "cell_type": "code",
      "metadata": {
        "id": "smNXt1U3F1YJ"
      },
      "source": [
        "import statsmodels.api as sm"
      ],
      "execution_count": null,
      "outputs": []
    },
    {
      "cell_type": "code",
      "metadata": {
        "id": "QDuh3K6nF1YS",
        "outputId": "33ee8461-477e-4e53-8823-e610632f5fe8"
      },
      "source": [
        "z_score, p_value = sm.stats.proportions_ztest([convert_new, convert_old], [n_new, n_old], alternative='larger')\n",
        "z_score, p_value"
      ],
      "execution_count": null,
      "outputs": [
        {
          "output_type": "execute_result",
          "data": {
            "text/plain": [
              "(4.077481782861739, 2.276304781118429e-05)"
            ]
          },
          "metadata": {
            "tags": []
          },
          "execution_count": 25
        }
      ]
    },
    {
      "cell_type": "markdown",
      "metadata": {
        "id": "LuX6PFW4F1Yd"
      },
      "source": [
        "p-value is less than 0.05, so we can reject null hypothesis and accept alternative hypothesis that\n",
        "<br>**$p_{new}$** - **$p_{old}$** >0, the new page has higher conversion rate than the old page"
      ]
    }
  ]
}